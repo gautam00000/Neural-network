{
 "cells": [
  {
   "cell_type": "code",
   "execution_count": 1,
   "id": "broad-corrections",
   "metadata": {},
   "outputs": [],
   "source": [
    "import pandas as pd\n",
    "from scipy.special import softmax\n",
    "import numpy as np\n",
    "from sklearn.model_selection import train_test_split\n",
    "import random\n",
    "import matplotlib.pyplot as plt"
   ]
  },
  {
   "cell_type": "code",
   "execution_count": 2,
   "id": "handled-amendment",
   "metadata": {},
   "outputs": [],
   "source": [
    "df=pd.read_csv(\"C:/Users/Gautam/Downloads/BankNote_Authentication.csv\")"
   ]
  },
  {
   "cell_type": "code",
   "execution_count": 3,
   "id": "streaming-interaction",
   "metadata": {},
   "outputs": [
    {
     "data": {
      "text/html": [
       "<div>\n",
       "<style scoped>\n",
       "    .dataframe tbody tr th:only-of-type {\n",
       "        vertical-align: middle;\n",
       "    }\n",
       "\n",
       "    .dataframe tbody tr th {\n",
       "        vertical-align: top;\n",
       "    }\n",
       "\n",
       "    .dataframe thead th {\n",
       "        text-align: right;\n",
       "    }\n",
       "</style>\n",
       "<table border=\"1\" class=\"dataframe\">\n",
       "  <thead>\n",
       "    <tr style=\"text-align: right;\">\n",
       "      <th></th>\n",
       "      <th>variance</th>\n",
       "      <th>skewness</th>\n",
       "      <th>curtosis</th>\n",
       "      <th>entropy</th>\n",
       "      <th>class</th>\n",
       "    </tr>\n",
       "  </thead>\n",
       "  <tbody>\n",
       "    <tr>\n",
       "      <th>0</th>\n",
       "      <td>3.62160</td>\n",
       "      <td>8.6661</td>\n",
       "      <td>-2.8073</td>\n",
       "      <td>-0.44699</td>\n",
       "      <td>0</td>\n",
       "    </tr>\n",
       "    <tr>\n",
       "      <th>1</th>\n",
       "      <td>4.54590</td>\n",
       "      <td>8.1674</td>\n",
       "      <td>-2.4586</td>\n",
       "      <td>-1.46210</td>\n",
       "      <td>0</td>\n",
       "    </tr>\n",
       "    <tr>\n",
       "      <th>2</th>\n",
       "      <td>3.86600</td>\n",
       "      <td>-2.6383</td>\n",
       "      <td>1.9242</td>\n",
       "      <td>0.10645</td>\n",
       "      <td>0</td>\n",
       "    </tr>\n",
       "    <tr>\n",
       "      <th>3</th>\n",
       "      <td>3.45660</td>\n",
       "      <td>9.5228</td>\n",
       "      <td>-4.0112</td>\n",
       "      <td>-3.59440</td>\n",
       "      <td>0</td>\n",
       "    </tr>\n",
       "    <tr>\n",
       "      <th>4</th>\n",
       "      <td>0.32924</td>\n",
       "      <td>-4.4552</td>\n",
       "      <td>4.5718</td>\n",
       "      <td>-0.98880</td>\n",
       "      <td>0</td>\n",
       "    </tr>\n",
       "  </tbody>\n",
       "</table>\n",
       "</div>"
      ],
      "text/plain": [
       "   variance  skewness  curtosis  entropy  class\n",
       "0   3.62160    8.6661   -2.8073 -0.44699      0\n",
       "1   4.54590    8.1674   -2.4586 -1.46210      0\n",
       "2   3.86600   -2.6383    1.9242  0.10645      0\n",
       "3   3.45660    9.5228   -4.0112 -3.59440      0\n",
       "4   0.32924   -4.4552    4.5718 -0.98880      0"
      ]
     },
     "execution_count": 3,
     "metadata": {},
     "output_type": "execute_result"
    }
   ],
   "source": [
    "df.head()"
   ]
  },
  {
   "cell_type": "code",
   "execution_count": 4,
   "id": "ultimate-majority",
   "metadata": {},
   "outputs": [
    {
     "data": {
      "text/plain": [
       "(1372, 5)"
      ]
     },
     "execution_count": 4,
     "metadata": {},
     "output_type": "execute_result"
    }
   ],
   "source": [
    "df.shape"
   ]
  },
  {
   "cell_type": "code",
   "execution_count": 5,
   "id": "protecting-queensland",
   "metadata": {},
   "outputs": [
    {
     "data": {
      "text/plain": [
       "variance    0\n",
       "skewness    0\n",
       "curtosis    0\n",
       "entropy     0\n",
       "class       0\n",
       "dtype: int64"
      ]
     },
     "execution_count": 5,
     "metadata": {},
     "output_type": "execute_result"
    }
   ],
   "source": [
    "df.isna().sum()"
   ]
  },
  {
   "cell_type": "code",
   "execution_count": 6,
   "id": "equal-baptist",
   "metadata": {},
   "outputs": [
    {
     "name": "stdout",
     "output_type": "stream",
     "text": [
      "<class 'pandas.core.frame.DataFrame'>\n",
      "RangeIndex: 1372 entries, 0 to 1371\n",
      "Data columns (total 5 columns):\n",
      " #   Column    Non-Null Count  Dtype  \n",
      "---  ------    --------------  -----  \n",
      " 0   variance  1372 non-null   float64\n",
      " 1   skewness  1372 non-null   float64\n",
      " 2   curtosis  1372 non-null   float64\n",
      " 3   entropy   1372 non-null   float64\n",
      " 4   class     1372 non-null   int64  \n",
      "dtypes: float64(4), int64(1)\n",
      "memory usage: 53.7 KB\n"
     ]
    }
   ],
   "source": [
    "df.info()"
   ]
  },
  {
   "cell_type": "code",
   "execution_count": 7,
   "id": "aggressive-methodology",
   "metadata": {},
   "outputs": [],
   "source": [
    "X=df.drop(['class'],axis=1)\n",
    "Y=df['class']"
   ]
  },
  {
   "cell_type": "code",
   "execution_count": 8,
   "id": "listed-slovak",
   "metadata": {},
   "outputs": [],
   "source": [
    "X_train,X_test,Y_train,Y_test=train_test_split(X,Y,test_size=0.2)"
   ]
  },
  {
   "cell_type": "code",
   "execution_count": null,
   "id": "given-cargo",
   "metadata": {},
   "outputs": [],
   "source": []
  },
  {
   "cell_type": "code",
   "execution_count": 9,
   "id": "warming-cannon",
   "metadata": {},
   "outputs": [
    {
     "data": {
      "text/plain": [
       "(1097, 4)"
      ]
     },
     "execution_count": 9,
     "metadata": {},
     "output_type": "execute_result"
    }
   ],
   "source": [
    "X_train.shape"
   ]
  },
  {
   "cell_type": "code",
   "execution_count": 10,
   "id": "fabulous-attempt",
   "metadata": {},
   "outputs": [
    {
     "data": {
      "text/plain": [
       "(275, 4)"
      ]
     },
     "execution_count": 10,
     "metadata": {},
     "output_type": "execute_result"
    }
   ],
   "source": [
    "X_test.shape"
   ]
  },
  {
   "cell_type": "code",
   "execution_count": 11,
   "id": "choice-counter",
   "metadata": {},
   "outputs": [
    {
     "data": {
      "text/plain": [
       "(1097,)"
      ]
     },
     "execution_count": 11,
     "metadata": {},
     "output_type": "execute_result"
    }
   ],
   "source": [
    "Y_train.shape"
   ]
  },
  {
   "cell_type": "code",
   "execution_count": 12,
   "id": "occasional-vampire",
   "metadata": {},
   "outputs": [
    {
     "data": {
      "text/plain": [
       "(275,)"
      ]
     },
     "execution_count": 12,
     "metadata": {},
     "output_type": "execute_result"
    }
   ],
   "source": [
    "Y_test.shape"
   ]
  },
  {
   "cell_type": "code",
   "execution_count": 108,
   "id": "collective-tablet",
   "metadata": {},
   "outputs": [],
   "source": [
    "\n",
    "\n",
    "class NeuralNet():\n",
    "    \n",
    "#two layered neural network\n",
    "     \n",
    "    def __init__(self, layers=[4,3,3,1], learning_rate=0.001, iterations=100):\n",
    "        self.weights = {}\n",
    "        self.learning_rate = learning_rate\n",
    "        self.iterations = iterations\n",
    "        self.loss = []\n",
    "        self.W1=[]\n",
    "        self.b1=[]\n",
    "        self.W2=[]\n",
    "        self.b2=[]\n",
    "        self.W3=[]\n",
    "        self.b3=[]\n",
    "        \n",
    "        self.K_0=[]\n",
    "        self.K_1=[]\n",
    "        self.sample_size = None\n",
    "        self.layers = layers\n",
    "        self.X1 = None\n",
    "        self.Y1 = None \n",
    "        self.K=np.array([])\n",
    "\n",
    "#activation functions\n",
    "    def linear(self,K0,K1,x):\n",
    "         return K0+K1*x\n",
    "    \n",
    "    \n",
    "\n",
    "\n",
    "    def d_linear(self,x,K1):\n",
    "        x=K1\n",
    "        return x\n",
    "\n",
    "    def softmax(self,A):\n",
    "        expA = np.exp(A)\n",
    "        return expA / expA.sum()\n",
    "    \n",
    "#loss function\n",
    "\n",
    "    def cross_entropy(self,Y1,A):\n",
    "        return -(np.sum(Y1*np.log(A))) \n",
    "\n",
    "\n",
    "    def init_weights(self):\n",
    "        '''\n",
    "        Initialize the weights from a random normal distribution\n",
    "        '''\n",
    "        np.random.seed(1) # Seed the random number generator\n",
    "        self.weights[\"W1\"] = np.random.randn(self.layers[0], self.layers[1]) \n",
    "        self.weights['b1']  =np.random.randn(self.layers[1],)\n",
    "        self.weights['W2'] = np.random.randn(self.layers[1],self.layers[2]) \n",
    "        self.weights['b2'] = np.random.randn(self.layers[2],)\n",
    "        self.weights['W3'] = np.random.randn(self.layers[2],self.layers[3])\n",
    "        self.weights['b3'] =np.random.randn(self.layers[3],)\n",
    "        \n",
    "\n",
    "   \n",
    "   \n",
    "\n",
    " #forward Propagation\n",
    "\n",
    "    def forward_propagation(self):\n",
    "        '''\n",
    "        Performs the forward propagation\n",
    "        ''' \n",
    "        K0 = np.random.randn()\n",
    "        K1 = np.random.randn()\n",
    "        K=np.array([K0,K1]).reshape(2,1)\n",
    "        self.K_0.append(K[0])\n",
    "        self.K_1.append(K[1])\n",
    "        Z1 = np.dot(self.X1,self.weights['W1']) + self.weights['b1']\n",
    "        A1 = self.linear(K0,K1,Z1)\n",
    "        Z2 = np.dot(A1,self.weights['W2']) + self.weights['b2']\n",
    "        A2 = self.linear(K0,K1,Z2)\n",
    "        Z3 = np.dot(A2,self.weights['W3']) + self.weights['b3']\n",
    "        A3= self.softmax(Z3).reshape(1097,)\n",
    "        \n",
    "        loss = self.cross_entropy(self.Y1,A3)\n",
    "\n",
    "        # save calculated parameters     \n",
    "        self.weights['Z1'] = Z1\n",
    "        self.weights['Z2'] = Z2\n",
    "        self.weights['Z3'] = Z3\n",
    "        self.weights['A1'] = A1\n",
    "        self.weights['A2'] = A2\n",
    "        self.weights['K0'] = K0\n",
    "        self.weights['K1'] = K1\n",
    "\n",
    "        return A3,loss\n",
    "#backwardpropagation\n",
    "\n",
    "    def back_propagation(self,A3):\n",
    "        \n",
    "        t=100 \n",
    "        \n",
    "\n",
    "        dZ3 = A3-self.Y1\n",
    "        dZ3 =np.array([dZ3]).reshape(1097,1)\n",
    "        dW3 = 1/t*np.dot(self.weights['A2'].T,dZ3)\n",
    "        db3 = np.mean(dZ3,axis=0)\n",
    "        dA2 = np.dot(dZ3,self.weights['W3'].T)\n",
    "        dZ2 = self.d_linear(self.weights['Z2'],self.weights['K1'])*dA2\n",
    "        dW2 = 1/t*np.dot(self.weights['A1'].T,dZ2)\n",
    "        db2 = np.mean(dZ2,axis=0)\n",
    "        dA1 = np.dot(dZ2,self.weights['W2'].T)\n",
    "        dZ1 = self.d_linear(self.weights['Z1'],self.weights['K1'])*dA1\n",
    "        dW1 = 1/t*np.dot(self.X1.T,dZ1)\n",
    "        db1 = np.mean(dZ1,axis=0)\n",
    "        dA2 = np.dot(dZ3,self.weights['W3'].T)\n",
    "        dZ2 = self.d_linear(self.weights['Z2'],self.weights['K1'])*dA2\n",
    "        dK1 = np.array([np.mean(dA1),np.mean(dA1*self.weights['Z1'])]).reshape(2,1)\n",
    "        dK = dK1\n",
    "        \n",
    "\n",
    "        #update the weights and bias\n",
    "        self.weights['W1'] = self.weights['W1'] - self.learning_rate * dW1\n",
    "        self.W1.append(self.weights['W1'])\n",
    "        self.weights['b1'] = self.weights['b1'] - self.learning_rate * db1\n",
    "        self.b1.append(self.weights['b1'])\n",
    "        self.weights['W2'] = self.weights['W2'] - self.learning_rate * dW2\n",
    "        self.W2.append(self.weights['W2'])\n",
    "        self.weights['b2'] = self.weights['b2'] - self.learning_rate * db2\n",
    "        self.b2.append(self.weights['b2'])\n",
    "        self.weights['W3'] = self.weights['W3'] - self.learning_rate * dW3\n",
    "        self.W3.append(self.weights['W3'])\n",
    "        self.weights['b3'] = self.weights['b3'] - self.learning_rate * db3\n",
    "        self.b3.append(self.weights['b3'])\n",
    "        self.K = self.K - self.learning_rate * dK\n",
    " \n",
    " #training the model\n",
    "    def fit(self, X1, Y1):\n",
    "        '''\n",
    "        Trains the neural network using the specified data and labels\n",
    "        '''\n",
    "        self.X1 = X1\n",
    "        self.Y1 = Y1\n",
    "        self.init_weights() #initialize weights and bias\n",
    "\n",
    "\n",
    "\n",
    "\n",
    "        for i in range(self.iterations):\n",
    "            A3, loss = self.forward_propagation()\n",
    "            self.back_propagation(A3)\n",
    "            self.loss.append(loss)\n",
    "\n",
    "    def predict(self, X1):\n",
    "        '''\n",
    "        Predicts on a test data\n",
    "        '''\n",
    "        Z1 = np.dot(self.X1,self.W1[-1]) + self.b1[-1]                                       \n",
    "        A1 = self.linear(self.K_0[-1],self.K_1[-1],Z1) \n",
    "        Z2 = np.dot(A1,self.weights['W2']) + self.weights['b2']\n",
    "        A2 = self.linear(self.K_0[-1],self.K_1[-1],Z2)\n",
    "        Z3 = np.dot(A2,self.weights['W3']) + self.weights['b3']\n",
    "        pred=self.softmax(Z3)\n",
    "        print(pred)\n",
    "        return np.round(pred) \n",
    "\n",
    "    def acc(self, Y1, A3):\n",
    "        '''\n",
    "        Calculates the accutacy between the predicted value\n",
    "        '''\n",
    "        acc = int(sum(Y1 == A3) / len(Y1) * 100)\n",
    "        return acc\n",
    "\n",
    " #loss curve   \n",
    "    def plot_loss(self):\n",
    "        '''\n",
    "        Plots the loss curve\n",
    "        '''\n",
    "        plt.plot(self.loss)\n",
    "        plt.xlabel(\"Iteration\")\n",
    "        plt.ylabel(\"logloss\")\n",
    "        plt.title(\"Loss curve for training\")\n",
    "        plt.show()  \n",
    "  #K0 vs iterations      \n",
    "    def plot_K0(self):\n",
    "        plt.plot(self.K_0)\n",
    "        \n",
    "  #K1 vs iterations\n",
    "    def plot_K1(self):\n",
    "        plt.plot(self.K_1)\n",
    "        \n",
    "    \n",
    "    \n"
   ]
  },
  {
   "cell_type": "code",
   "execution_count": 115,
   "id": "sophisticated-criminal",
   "metadata": {},
   "outputs": [
    {
     "name": "stderr",
     "output_type": "stream",
     "text": [
      "C:\\Users\\Gautam\\Anaconda3\\lib\\site-packages\\ipykernel_launcher.py:37: RuntimeWarning: overflow encountered in exp\n",
      "C:\\Users\\Gautam\\Anaconda3\\lib\\site-packages\\ipykernel_launcher.py:38: RuntimeWarning: invalid value encountered in true_divide\n",
      "C:\\Users\\Gautam\\Anaconda3\\lib\\site-packages\\ipykernel_launcher.py:43: RuntimeWarning: divide by zero encountered in log\n"
     ]
    },
    {
     "data": {
      "text/plain": [
       "(array([-0.20339445]), array([0.24266944]))"
      ]
     },
     "execution_count": 115,
     "metadata": {},
     "output_type": "execute_result"
    }
   ],
   "source": [
    "train_loss=[]\n",
    "test_loss=[]\n",
    "nn=NeuralNet()\n",
    "nn.fit(X_train,Y_train)"
   ]
  },
  {
   "cell_type": "code",
   "execution_count": null,
   "id": "effective-airfare",
   "metadata": {},
   "outputs": [],
   "source": []
  },
  {
   "cell_type": "code",
   "execution_count": null,
   "id": "freelance-security",
   "metadata": {},
   "outputs": [],
   "source": []
  }
 ],
 "metadata": {
  "kernelspec": {
   "display_name": "Python 3",
   "language": "python",
   "name": "python3"
  },
  "language_info": {
   "codemirror_mode": {
    "name": "ipython",
    "version": 3
   },
   "file_extension": ".py",
   "mimetype": "text/x-python",
   "name": "python",
   "nbconvert_exporter": "python",
   "pygments_lexer": "ipython3",
   "version": "3.7.3"
  }
 },
 "nbformat": 4,
 "nbformat_minor": 5
}
